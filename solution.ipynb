{
 "cells": [
  {
   "cell_type": "code",
   "execution_count": 1,
   "id": "3e5ef6f0-08d1-4396-85ac-bdd9543c52b6",
   "metadata": {},
   "outputs": [],
   "source": [
    "#importing necessary modules\n",
    "import pandas as pd\n",
    "import matplotlib.pyplot as plt\n",
    "import numpy as np"
   ]
  },
  {
   "cell_type": "code",
   "execution_count": 2,
   "id": "6c42d089-9992-42f7-9703-977715c3b034",
   "metadata": {},
   "outputs": [],
   "source": [
    "#loading data\n",
    "data=pd.read_csv('task_data.csv')\n"
   ]
  },
  {
   "cell_type": "code",
   "execution_count": 3,
   "id": "1d549faa-9623-479a-9b76-10100dd4c832",
   "metadata": {},
   "outputs": [
    {
     "data": {
      "text/html": [
       "<div>\n",
       "<style scoped>\n",
       "    .dataframe tbody tr th:only-of-type {\n",
       "        vertical-align: middle;\n",
       "    }\n",
       "\n",
       "    .dataframe tbody tr th {\n",
       "        vertical-align: top;\n",
       "    }\n",
       "\n",
       "    .dataframe thead th {\n",
       "        text-align: right;\n",
       "    }\n",
       "</style>\n",
       "<table border=\"1\" class=\"dataframe\">\n",
       "  <thead>\n",
       "    <tr style=\"text-align: right;\">\n",
       "      <th></th>\n",
       "      <th>ID</th>\n",
       "      <th>Cardiomegaly</th>\n",
       "      <th>Heart width</th>\n",
       "      <th>Lung width</th>\n",
       "      <th>xx</th>\n",
       "      <th>yy</th>\n",
       "      <th>xy</th>\n",
       "      <th>normalized_diff</th>\n",
       "      <th>Polygon Area Ratio</th>\n",
       "      <th>Heart area</th>\n",
       "      <th>Lung area</th>\n",
       "    </tr>\n",
       "  </thead>\n",
       "  <tbody>\n",
       "    <tr>\n",
       "      <th>count</th>\n",
       "      <td>37.000000</td>\n",
       "      <td>37.000000</td>\n",
       "      <td>37.000000</td>\n",
       "      <td>37.000000</td>\n",
       "      <td>37.000000</td>\n",
       "      <td>37.000000</td>\n",
       "      <td>37.000000</td>\n",
       "      <td>37.000000</td>\n",
       "      <td>37.000000</td>\n",
       "      <td>37.000000</td>\n",
       "      <td>37.000000</td>\n",
       "    </tr>\n",
       "    <tr>\n",
       "      <th>mean</th>\n",
       "      <td>26.027027</td>\n",
       "      <td>0.756757</td>\n",
       "      <td>206.351351</td>\n",
       "      <td>413.810811</td>\n",
       "      <td>2286.269336</td>\n",
       "      <td>4730.006310</td>\n",
       "      <td>-805.167329</td>\n",
       "      <td>-0.344805</td>\n",
       "      <td>0.274054</td>\n",
       "      <td>34402.378378</td>\n",
       "      <td>81486.783784</td>\n",
       "    </tr>\n",
       "    <tr>\n",
       "      <th>std</th>\n",
       "      <td>15.039737</td>\n",
       "      <td>0.434959</td>\n",
       "      <td>29.283306</td>\n",
       "      <td>36.771696</td>\n",
       "      <td>638.801580</td>\n",
       "      <td>1095.268932</td>\n",
       "      <td>398.022620</td>\n",
       "      <td>0.145481</td>\n",
       "      <td>0.057254</td>\n",
       "      <td>6187.119516</td>\n",
       "      <td>14730.330918</td>\n",
       "    </tr>\n",
       "    <tr>\n",
       "      <th>min</th>\n",
       "      <td>1.000000</td>\n",
       "      <td>0.000000</td>\n",
       "      <td>148.000000</td>\n",
       "      <td>341.000000</td>\n",
       "      <td>1214.923424</td>\n",
       "      <td>3076.280456</td>\n",
       "      <td>-1755.344699</td>\n",
       "      <td>-0.651767</td>\n",
       "      <td>0.181388</td>\n",
       "      <td>22583.000000</td>\n",
       "      <td>51018.000000</td>\n",
       "    </tr>\n",
       "    <tr>\n",
       "      <th>25%</th>\n",
       "      <td>13.000000</td>\n",
       "      <td>1.000000</td>\n",
       "      <td>189.000000</td>\n",
       "      <td>396.000000</td>\n",
       "      <td>1833.841218</td>\n",
       "      <td>3969.359793</td>\n",
       "      <td>-995.735145</td>\n",
       "      <td>-0.432405</td>\n",
       "      <td>0.223339</td>\n",
       "      <td>29120.000000</td>\n",
       "      <td>70212.000000</td>\n",
       "    </tr>\n",
       "    <tr>\n",
       "      <th>50%</th>\n",
       "      <td>25.000000</td>\n",
       "      <td>1.000000</td>\n",
       "      <td>204.000000</td>\n",
       "      <td>407.000000</td>\n",
       "      <td>2197.853422</td>\n",
       "      <td>4812.389570</td>\n",
       "      <td>-831.472858</td>\n",
       "      <td>-0.360424</td>\n",
       "      <td>0.264131</td>\n",
       "      <td>33591.000000</td>\n",
       "      <td>83123.000000</td>\n",
       "    </tr>\n",
       "    <tr>\n",
       "      <th>75%</th>\n",
       "      <td>40.000000</td>\n",
       "      <td>1.000000</td>\n",
       "      <td>223.000000</td>\n",
       "      <td>432.000000</td>\n",
       "      <td>2465.903392</td>\n",
       "      <td>5376.834707</td>\n",
       "      <td>-638.531109</td>\n",
       "      <td>-0.284012</td>\n",
       "      <td>0.320787</td>\n",
       "      <td>39256.000000</td>\n",
       "      <td>92058.000000</td>\n",
       "    </tr>\n",
       "    <tr>\n",
       "      <th>max</th>\n",
       "      <td>50.000000</td>\n",
       "      <td>1.000000</td>\n",
       "      <td>266.000000</td>\n",
       "      <td>498.000000</td>\n",
       "      <td>3961.102462</td>\n",
       "      <td>8378.677729</td>\n",
       "      <td>211.472229</td>\n",
       "      <td>-0.031457</td>\n",
       "      <td>0.421824</td>\n",
       "      <td>46381.000000</td>\n",
       "      <td>116542.000000</td>\n",
       "    </tr>\n",
       "  </tbody>\n",
       "</table>\n",
       "</div>"
      ],
      "text/plain": [
       "              ID  Cardiomegaly  Heart width  Lung width           xx  \\\n",
       "count  37.000000     37.000000    37.000000   37.000000    37.000000   \n",
       "mean   26.027027      0.756757   206.351351  413.810811  2286.269336   \n",
       "std    15.039737      0.434959    29.283306   36.771696   638.801580   \n",
       "min     1.000000      0.000000   148.000000  341.000000  1214.923424   \n",
       "25%    13.000000      1.000000   189.000000  396.000000  1833.841218   \n",
       "50%    25.000000      1.000000   204.000000  407.000000  2197.853422   \n",
       "75%    40.000000      1.000000   223.000000  432.000000  2465.903392   \n",
       "max    50.000000      1.000000   266.000000  498.000000  3961.102462   \n",
       "\n",
       "                yy           xy  normalized_diff  Polygon Area Ratio  \\\n",
       "count    37.000000    37.000000        37.000000           37.000000   \n",
       "mean   4730.006310  -805.167329        -0.344805            0.274054   \n",
       "std    1095.268932   398.022620         0.145481            0.057254   \n",
       "min    3076.280456 -1755.344699        -0.651767            0.181388   \n",
       "25%    3969.359793  -995.735145        -0.432405            0.223339   \n",
       "50%    4812.389570  -831.472858        -0.360424            0.264131   \n",
       "75%    5376.834707  -638.531109        -0.284012            0.320787   \n",
       "max    8378.677729   211.472229        -0.031457            0.421824   \n",
       "\n",
       "        Heart area       Lung area  \n",
       "count     37.000000      37.000000  \n",
       "mean   34402.378378   81486.783784  \n",
       "std     6187.119516   14730.330918  \n",
       "min    22583.000000   51018.000000  \n",
       "25%    29120.000000   70212.000000  \n",
       "50%    33591.000000   83123.000000  \n",
       "75%    39256.000000   92058.000000  \n",
       "max    46381.000000  116542.000000  "
      ]
     },
     "execution_count": 3,
     "metadata": {},
     "output_type": "execute_result"
    }
   ],
   "source": [
    "#Basic exploration\n",
    "data.describe()\n"
   ]
  },
  {
   "cell_type": "code",
   "execution_count": 4,
   "id": "2d45fe26-e39a-4b28-b326-6ee4cb0b9d03",
   "metadata": {},
   "outputs": [
    {
     "data": {
      "text/html": [
       "<div>\n",
       "<style scoped>\n",
       "    .dataframe tbody tr th:only-of-type {\n",
       "        vertical-align: middle;\n",
       "    }\n",
       "\n",
       "    .dataframe tbody tr th {\n",
       "        vertical-align: top;\n",
       "    }\n",
       "\n",
       "    .dataframe thead th {\n",
       "        text-align: right;\n",
       "    }\n",
       "</style>\n",
       "<table border=\"1\" class=\"dataframe\">\n",
       "  <thead>\n",
       "    <tr style=\"text-align: right;\">\n",
       "      <th></th>\n",
       "      <th>ID</th>\n",
       "      <th>Cardiomegaly</th>\n",
       "      <th>Heart width</th>\n",
       "      <th>Lung width</th>\n",
       "      <th>CTR - Cardiothoracic Ratio</th>\n",
       "      <th>xx</th>\n",
       "      <th>yy</th>\n",
       "      <th>xy</th>\n",
       "      <th>normalized_diff</th>\n",
       "      <th>Inscribed circle radius</th>\n",
       "      <th>Polygon Area Ratio</th>\n",
       "      <th>Heart perimeter</th>\n",
       "      <th>Heart area</th>\n",
       "      <th>Lung area</th>\n",
       "    </tr>\n",
       "  </thead>\n",
       "  <tbody>\n",
       "    <tr>\n",
       "      <th>0</th>\n",
       "      <td>1</td>\n",
       "      <td>0</td>\n",
       "      <td>172</td>\n",
       "      <td>405</td>\n",
       "      <td>0,424691358</td>\n",
       "      <td>1682.360871</td>\n",
       "      <td>3153.671880</td>\n",
       "      <td>-638.531109</td>\n",
       "      <td>-0.304239</td>\n",
       "      <td>68,8186</td>\n",
       "      <td>0.213446</td>\n",
       "      <td>679,4873689</td>\n",
       "      <td>24898</td>\n",
       "      <td>75419</td>\n",
       "    </tr>\n",
       "    <tr>\n",
       "      <th>1</th>\n",
       "      <td>2</td>\n",
       "      <td>1</td>\n",
       "      <td>159</td>\n",
       "      <td>391</td>\n",
       "      <td>0,4066496164</td>\n",
       "      <td>1526.660960</td>\n",
       "      <td>5102.159054</td>\n",
       "      <td>-889.678405</td>\n",
       "      <td>-0.539387</td>\n",
       "      <td>73,92564</td>\n",
       "      <td>0.203652</td>\n",
       "      <td>788,6589419</td>\n",
       "      <td>29851</td>\n",
       "      <td>94494</td>\n",
       "    </tr>\n",
       "    <tr>\n",
       "      <th>2</th>\n",
       "      <td>5</td>\n",
       "      <td>0</td>\n",
       "      <td>208</td>\n",
       "      <td>400</td>\n",
       "      <td>0,52</td>\n",
       "      <td>2465.903392</td>\n",
       "      <td>5376.834707</td>\n",
       "      <td>-1755.344699</td>\n",
       "      <td>-0.371163</td>\n",
       "      <td>69,33974</td>\n",
       "      <td>0.320787</td>\n",
       "      <td>862,3229369</td>\n",
       "      <td>33653</td>\n",
       "      <td>66666</td>\n",
       "    </tr>\n",
       "    <tr>\n",
       "      <th>3</th>\n",
       "      <td>7</td>\n",
       "      <td>1</td>\n",
       "      <td>226</td>\n",
       "      <td>435</td>\n",
       "      <td>0,5195402299</td>\n",
       "      <td>2509.063593</td>\n",
       "      <td>6129.821270</td>\n",
       "      <td>-1025.079806</td>\n",
       "      <td>-0.419123</td>\n",
       "      <td>84,14868</td>\n",
       "      <td>0.317545</td>\n",
       "      <td>906,724959</td>\n",
       "      <td>42018</td>\n",
       "      <td>82596</td>\n",
       "    </tr>\n",
       "    <tr>\n",
       "      <th>4</th>\n",
       "      <td>8</td>\n",
       "      <td>1</td>\n",
       "      <td>211</td>\n",
       "      <td>420</td>\n",
       "      <td>0,5023809524</td>\n",
       "      <td>2368.770135</td>\n",
       "      <td>5441.767075</td>\n",
       "      <td>-1493.040062</td>\n",
       "      <td>-0.393442</td>\n",
       "      <td>73,78347</td>\n",
       "      <td>0.263542</td>\n",
       "      <td>864,2396777</td>\n",
       "      <td>35346</td>\n",
       "      <td>85631</td>\n",
       "    </tr>\n",
       "  </tbody>\n",
       "</table>\n",
       "</div>"
      ],
      "text/plain": [
       "   ID  Cardiomegaly  Heart width  Lung width CTR - Cardiothoracic Ratio  \\\n",
       "0   1             0          172         405                0,424691358   \n",
       "1   2             1          159         391               0,4066496164   \n",
       "2   5             0          208         400                       0,52   \n",
       "3   7             1          226         435               0,5195402299   \n",
       "4   8             1          211         420               0,5023809524   \n",
       "\n",
       "            xx           yy           xy  normalized_diff  \\\n",
       "0  1682.360871  3153.671880  -638.531109        -0.304239   \n",
       "1  1526.660960  5102.159054  -889.678405        -0.539387   \n",
       "2  2465.903392  5376.834707 -1755.344699        -0.371163   \n",
       "3  2509.063593  6129.821270 -1025.079806        -0.419123   \n",
       "4  2368.770135  5441.767075 -1493.040062        -0.393442   \n",
       "\n",
       "  Inscribed circle radius  Polygon Area Ratio Heart perimeter  Heart area   \\\n",
       "0                 68,8186            0.213446     679,4873689        24898   \n",
       "1                73,92564            0.203652     788,6589419        29851   \n",
       "2                69,33974            0.320787     862,3229369        33653   \n",
       "3                84,14868            0.317545      906,724959        42018   \n",
       "4                73,78347            0.263542     864,2396777        35346   \n",
       "\n",
       "   Lung area  \n",
       "0      75419  \n",
       "1      94494  \n",
       "2      66666  \n",
       "3      82596  \n",
       "4      85631  "
      ]
     },
     "execution_count": 4,
     "metadata": {},
     "output_type": "execute_result"
    }
   ],
   "source": [
    "data.head()"
   ]
  },
  {
   "cell_type": "code",
   "execution_count": 5,
   "id": "3efd28aa-f821-447b-b502-66ae4e395e22",
   "metadata": {},
   "outputs": [
    {
     "name": "stdout",
     "output_type": "stream",
     "text": [
      "<class 'pandas.core.frame.DataFrame'>\n",
      "RangeIndex: 37 entries, 0 to 36\n",
      "Data columns (total 14 columns):\n",
      " #   Column                      Non-Null Count  Dtype  \n",
      "---  ------                      --------------  -----  \n",
      " 0   ID                          37 non-null     int64  \n",
      " 1   Cardiomegaly                37 non-null     int64  \n",
      " 2   Heart width                 37 non-null     int64  \n",
      " 3   Lung width                  37 non-null     int64  \n",
      " 4   CTR - Cardiothoracic Ratio  37 non-null     object \n",
      " 5   xx                          37 non-null     float64\n",
      " 6   yy                          37 non-null     float64\n",
      " 7   xy                          37 non-null     float64\n",
      " 8   normalized_diff             37 non-null     float64\n",
      " 9   Inscribed circle radius     37 non-null     object \n",
      " 10  Polygon Area Ratio          37 non-null     float64\n",
      " 11  Heart perimeter             37 non-null     object \n",
      " 12  Heart area                  37 non-null     int64  \n",
      " 13  Lung area                   37 non-null     int64  \n",
      "dtypes: float64(5), int64(6), object(3)\n",
      "memory usage: 4.2+ KB\n"
     ]
    }
   ],
   "source": [
    "data.info()"
   ]
  },
  {
   "cell_type": "code",
   "execution_count": 6,
   "id": "676f31e5-373e-4171-86b5-d8d5b1e2fc22",
   "metadata": {},
   "outputs": [
    {
     "name": "stdout",
     "output_type": "stream",
     "text": [
      "<class 'pandas.core.frame.DataFrame'>\n",
      "RangeIndex: 37 entries, 0 to 36\n",
      "Data columns (total 14 columns):\n",
      " #   Column                      Non-Null Count  Dtype  \n",
      "---  ------                      --------------  -----  \n",
      " 0   ID                          37 non-null     int64  \n",
      " 1   Cardiomegaly                37 non-null     int64  \n",
      " 2   Heart width                 37 non-null     int64  \n",
      " 3   Lung width                  37 non-null     int64  \n",
      " 4   CTR - Cardiothoracic Ratio  37 non-null     float64\n",
      " 5   xx                          37 non-null     float64\n",
      " 6   yy                          37 non-null     float64\n",
      " 7   xy                          37 non-null     float64\n",
      " 8   normalized_diff             37 non-null     float64\n",
      " 9   Inscribed circle radius     37 non-null     float64\n",
      " 10  Polygon Area Ratio          37 non-null     float64\n",
      " 11  Heart perimeter             37 non-null     float64\n",
      " 12  Heart area                  37 non-null     int64  \n",
      " 13  Lung area                   37 non-null     int64  \n",
      "dtypes: float64(8), int64(6)\n",
      "memory usage: 4.2 KB\n"
     ]
    }
   ],
   "source": [
    "#We can see that data has some problems to fix in cols 4,9 and 11. \n",
    "#Looking at the head it's obvious that the problem is , instead of . in data\n",
    "wrong_cols=['CTR - Cardiothoracic Ratio','Inscribed circle radius','Heart perimeter']\n",
    "for col in wrong_cols:\n",
    "    data[col]=data[col].astype(str).str.replace(\",\",\".\")\n",
    "    data[col]=data[col].astype(float)\n",
    "#checking if fix is successful\n",
    "data.info()\n",
    "    \n"
   ]
  },
  {
   "cell_type": "code",
   "execution_count": 7,
   "id": "a5ab0621-dc77-4865-9efa-72fb86319a74",
   "metadata": {},
   "outputs": [
    {
     "name": "stdout",
     "output_type": "stream",
     "text": [
      "The proportion of outcomes is:\n",
      "Cardiomegaly\n",
      "1    0.756757\n",
      "0    0.243243\n",
      "Name: proportion, dtype: float64\n"
     ]
    },
    {
     "data": {
      "text/plain": [
       "<function matplotlib.pyplot.show(close=None, block=None)>"
      ]
     },
     "execution_count": 7,
     "metadata": {},
     "output_type": "execute_result"
    },
    {
     "data": {
      "image/png": "[encoded data removed]",
      "text/plain": [
       "<Figure size 640x480 with 1 Axes>"
      ]
     },
     "metadata": {},
     "output_type": "display_data"
    }
   ],
   "source": [
    "#Checking balance of classes to choose optimal training split\n",
    "counts=data['Cardiomegaly'].value_counts()\n",
    "print(f\"The proportion of outcomes is:\\n{data['Cardiomegaly'].value_counts(1)}\")\n",
    "counts.plot(kind='bar',title='distribution of outcomes',rot=0)\n",
    "plt.xlabel(\"Outcome\")\n",
    "plt.ylabel(\"Samples count\")\n",
    "plt.show"
   ]
  },
  {
   "cell_type": "code",
   "execution_count": 8,
   "id": "8cbfcc59-537d-432b-9d97-e1233087c7a4",
   "metadata": {},
   "outputs": [],
   "source": [
    "#As we can conclude from the distribution, we should use approximately 80/20 train/test split to get fair results\n",
    "#Let's choose our X and Y variable\n",
    "Y=data['Cardiomegaly']\n",
    "X=data.drop(columns=['ID','Cardiomegaly'])"
   ]
  },
  {
   "cell_type": "code",
   "execution_count": 9,
   "id": "a494831b-bc8e-41e3-9fe8-582bc10c0bec",
   "metadata": {},
   "outputs": [
    {
     "name": "stdout",
     "output_type": "stream",
     "text": [
      "(27, 12)\n",
      "(10, 12)\n",
      "(27,)\n"
     ]
    }
   ],
   "source": [
    "#Now we can define the splits\n",
    "from sklearn.model_selection import train_test_split\n",
    "X_train,X_test,Y_train,Y_test=train_test_split(X,Y,test_size=0.25,random_state=42,stratify=Y)\n",
    "#Let's check the results\n",
    "print(X_train.shape)\n",
    "print(X_test.shape)\n",
    "print(Y_train.shape)\n"
   ]
  },
  {
   "cell_type": "code",
   "execution_count": 10,
   "id": "23c1c854-b3ff-478e-8dad-b82e881c1b5a",
   "metadata": {},
   "outputs": [
    {
     "data": {
      "text/plain": [
       "array([[ 1.75453155,  0.28786029,  1.43352252,  1.87662186, -0.22554864,\n",
       "         0.31481819,  1.52672763,  2.87771511,  1.16059844,  0.82097718,\n",
       "         1.81748035, -0.70894129],\n",
       "       [ 0.08725673,  0.28786029, -0.12672574,  0.25943783, -1.31495841,\n",
       "         1.31198132,  1.27543055,  0.74466059, -0.47104783, -0.88537983,\n",
       "        -0.17581484, -0.16892598],\n",
       "       [-0.2027041 , -1.23931428,  0.6254816 , -0.26395242, -0.79951944,\n",
       "        -0.53738956,  0.33398994, -1.2174296 ,  1.24716196, -0.81985343,\n",
       "        -0.84141491, -1.65919668],\n",
       "       [ 2.1532277 ,  0.36967321,  1.74397047,  2.66711223,  0.6135183 ,\n",
       "        -1.61193141,  1.4030189 ,  1.25444085,  1.56813232,  2.12653134,\n",
       "         2.05301655, -0.25001075],\n",
       "       [-1.10883172,  0.83327977, -1.51194276, -0.81968547, -0.96912937,\n",
       "        -0.0759364 , -0.08815594, -0.67977394, -1.73704619, -1.23246876,\n",
       "        -1.16632868,  1.17237042]])"
      ]
     },
     "execution_count": 10,
     "metadata": {},
     "output_type": "execute_result"
    }
   ],
   "source": [
    "#After reading ML.md I decided that the most suitable model for this task will be logistic regression\n",
    "#Because of that, we need to scale our values to be similar to each other (e.g. between 0 and 1)\n",
    "from sklearn.preprocessing import StandardScaler\n",
    "scale=StandardScaler()\n",
    "#We teach our scaler on training data (fit)\n",
    "X_train_scaled=scale.fit_transform(X_train)\n",
    "#Then we use trained scaler on test data\n",
    "X_test_scaled=scale.transform(X_test)\n",
    "#The result of the transformation\n",
    "X_train_scaled[:5]\n"
   ]
  },
  {
   "cell_type": "code",
   "execution_count": 11,
   "id": "a09fc36d-1539-4654-b8cd-5136dd295c0a",
   "metadata": {},
   "outputs": [],
   "source": [
    "#Great, our data is now fully ready for training. As I mentioned before, I will start with logistic regression\n",
    "from sklearn.linear_model import LogisticRegression\n",
    "from sklearn.metrics import accuracy_score, precision_score, recall_score, f1_score\n",
    "model=LogisticRegression(random_state=42)\n",
    "#Proceeding to training\n",
    "model.fit(X_train_scaled,Y_train)\n",
    "#Now predicting the train Y based on train X\n",
    "predicted_train_Y=model.predict(X_train_scaled)\n"
   ]
  },
  {
   "cell_type": "code",
   "execution_count": 12,
   "id": "d0618ad7-6ddc-4b8c-816c-24cd9cb88713",
   "metadata": {},
   "outputs": [
    {
     "name": "stdout",
     "output_type": "stream",
     "text": [
      "Predicted trained Y with trained X metrics: \n",
      " accuracy: 0.8888888888888888\n",
      " precision: 0.8695652173913043\n",
      " recall: 1.0\n",
      " f1 : 0.9302325581395349\n"
     ]
    }
   ],
   "source": [
    "#Results of our test are following:\n",
    "tr_accuracy=accuracy_score(Y_train,predicted_train_Y)\n",
    "tr_precision=precision_score(Y_train,predicted_train_Y,pos_label=1,zero_division=0)\n",
    "tr_recall=recall_score(Y_train,predicted_train_Y,pos_label=1,zero_division=0)\n",
    "tr_f1=f1_score(Y_train,predicted_train_Y,pos_label=1,zero_division=0)\n",
    "print(f\"Predicted trained Y with trained X metrics: \\n accuracy: {tr_accuracy}\\n precision: {tr_precision}\\n recall: {tr_recall}\\n f1 : {tr_f1}\")"
   ]
  },
  {
   "cell_type": "code",
   "execution_count": 13,
   "id": "6f3bf9c4-4b4d-46ad-a8d7-9f973989763f",
   "metadata": {},
   "outputs": [
    {
     "name": "stdout",
     "output_type": "stream",
     "text": [
      " accuracy: 0.7\n",
      " precision: 0.8571428571428571\n",
      " recall: 0.75\n",
      " f1 : 0.8\n"
     ]
    }
   ],
   "source": [
    "#Training data scores are little too high for this small of a sample size, possible overfitting\n",
    "#Now we can proceed to the final test - predicting on test data\n",
    "predicted_test_Y=model.predict(X_test_scaled)\n",
    "test_accuracy = accuracy_score(Y_test, predicted_test_Y)\n",
    "test_precision = precision_score(Y_test, predicted_test_Y, pos_label=1, zero_division=0)\n",
    "test_recall = recall_score(Y_test, predicted_test_Y, pos_label=1, zero_division=0)\n",
    "test_f1 = f1_score(Y_test, predicted_test_Y, pos_label=1, zero_division=0)\n",
    "print(f\" accuracy: {test_accuracy}\\n precision: {test_precision}\\n recall: {test_recall}\\n f1 : {test_f1}\")"
   ]
  },
  {
   "cell_type": "code",
   "execution_count": 14,
   "id": "5d87ec04-922b-4af7-b6cd-a99cdae48b1c",
   "metadata": {},
   "outputs": [
    {
     "name": "stdout",
     "output_type": "stream",
     "text": [
      "CV Results for Baseline Model\n",
      "Avg. Accuracy:      0.7357\n",
      "Avg. F1-score (Macro):  0.6181\n",
      "Avg. Recall (Class 0 - Healthy): 0.4000\n",
      "Avg. Recall (Class 1 - Sick):  0.8533\n"
     ]
    }
   ],
   "source": [
    "#For this sample, results are far from satisfying, but before we change params in model, we need to do cross-validation\n",
    "#Importing necessary modules for cross-validation\n",
    "from sklearn.model_selection import cross_validate, StratifiedKFold\n",
    "from sklearn.pipeline import Pipeline\n",
    "from sklearn.metrics import make_scorer, recall_score, precision_score, f1_score\n",
    "\n",
    "#Defining the metrics we want to track\n",
    "scorers = {\n",
    "    'accuracy': 'accuracy',\n",
    "    'f1_macro': 'f1_macro',\n",
    "    'recall_class_0': make_scorer(recall_score, pos_label=0, zero_division=0),\n",
    "    'recall_class_1': make_scorer(recall_score, pos_label=1, zero_division=0)}\n",
    "\n",
    "#Setting up the cross-validation strategy\n",
    "#Using StratifiedKFold to keep class balance (76/24) in each split\n",
    "cv_strategy = StratifiedKFold(n_splits=5, shuffle=True, random_state=42)\n",
    "\n",
    "#Creating a Pipeline to combine scaling and modeling\n",
    "#This prevents data leakage during CV\n",
    "pipe_baseline = Pipeline([\n",
    "    ('scaler', StandardScaler()),\n",
    "    ('model', LogisticRegression(random_state=42))])\n",
    "\n",
    "#Running CV for baseline model\n",
    "#Using the whole dataset (X, y)\n",
    "cv_results_baseline = cross_validate(\n",
    "    pipe_baseline,\n",
    "    X, Y,\n",
    "    cv=cv_strategy,\n",
    "    scoring=scorers\n",
    ")\n",
    "\n",
    "#Showing average results for the baseline model\n",
    "print(\"CV Results for Baseline Model\")\n",
    "print(f\"Avg. Accuracy:      {cv_results_baseline['test_accuracy'].mean():.4f}\")\n",
    "print(f\"Avg. F1-score (Macro):  {cv_results_baseline['test_f1_macro'].mean():.4f}\")\n",
    "print(f\"Avg. Recall (Class 0 - Healthy): {cv_results_baseline['test_recall_class_0'].mean():.4f}\")\n",
    "print(f\"Avg. Recall (Class 1 - Sick):  {cv_results_baseline['test_recall_class_1'].mean():.4f}\")"
   ]
  },
  {
   "cell_type": "code",
   "execution_count": 15,
   "id": "ffaa3758-4f24-4993-9602-348e40784363",
   "metadata": {},
   "outputs": [
    {
     "name": "stdout",
     "output_type": "stream",
     "text": [
      "CV Results for Balanced Model (class_weight='balanced')\n",
      "Avg. Accuracy: 0.7036\n",
      "Avg. F1-score (Macro):  0.6474\n",
      "Avg. Recall (Class 0 - Healthy): 0.7000\n",
      "Avg. Recall (Class 1 - Sick):  0.7067\n"
     ]
    }
   ],
   "source": [
    "#Running CV again, but for a balanced model\n",
    "#Our baseline model was biased (low recall for class 0). Let's try to fix it.\n",
    "#Creating a new Pipeline with class_weight='balanced'\n",
    "pipe_balanced = Pipeline([\n",
    "    ('scaler', StandardScaler()),\n",
    "    ('model', LogisticRegression(random_state=42, class_weight='balanced'))]) #The only change\n",
    "\n",
    "\n",
    "#Running cross-validation\n",
    "#Using the same cv_strategy and scorers from the previous cell\n",
    "cv_results_balanced = cross_validate(\n",
    "    pipe_balanced,\n",
    "    X, Y,\n",
    "    cv=cv_strategy,\n",
    "    scoring=scorers\n",
    ")\n",
    "\n",
    "#Showing average results for the balanced model\n",
    "print(\"CV Results for Balanced Model (class_weight='balanced')\")\n",
    "print(f\"Avg. Accuracy: {cv_results_balanced['test_accuracy'].mean():.4f}\")\n",
    "print(f\"Avg. F1-score (Macro):  {cv_results_balanced['test_f1_macro'].mean():.4f}\")\n",
    "print(f\"Avg. Recall (Class 0 - Healthy): {cv_results_balanced['test_recall_class_0'].mean():.4f}\")\n",
    "print(f\"Avg. Recall (Class 1 - Sick):  {cv_results_balanced['test_recall_class_1'].mean():.4f}\")"
   ]
  },
  {
   "cell_type": "code",
   "execution_count": 16,
   "id": "7d2d2226-8538-46fd-9424-c0692e396aa3",
   "metadata": {},
   "outputs": [
    {
     "data": {
      "image/png": "[encoded data removed]",
      "text/plain": [
       "<Figure size 800x600 with 1 Axes>"
      ]
     },
     "metadata": {},
     "output_type": "display_data"
    }
   ],
   "source": [
    "#Setting up the data for our comparison plot\n",
    "#We will compare the Avg. F1-score (Macro) from our CV results\n",
    "model_names = ['Baseline LogReg', 'Balanced LogReg']\n",
    "\n",
    "#Getting the F1-scores from our previous CV results\n",
    "f1_scores = [cv_results_baseline['test_f1_macro'].mean(), # F1-Macro from Baseline\n",
    "            cv_results_balanced['test_f1_macro'].mean()] # F1-Macro from Balanced \n",
    "            \n",
    "\n",
    "#Creating the bar plot\n",
    "plt.figure(figsize=(8, 6))\n",
    "bars=plt.bar(model_names, f1_scores, color=['red', 'blue'])\n",
    "plt.xlabel(\"Model\")\n",
    "plt.ylabel(\"Avg. F1-Score (Macro) from CV\")\n",
    "plt.title(\"Model Comparison\")\n",
    "plt.ylim(0, 1.0) # Set Y-axis from 0 to 1\n",
    "\n",
    "#Adding the score value on top of each bar\n",
    "plt.bar_label(bars, fmt='%.4f')\n",
    "\n",
    "plt.show()"
   ]
  },
  {
   "cell_type": "code",
   "execution_count": 17,
   "id": "8807da96-17cb-4d7b-a889-f0aa86b84fb1",
   "metadata": {},
   "outputs": [
    {
     "data": {
      "image/png": "[encoded data removed]",
      "text/plain": [
       "<Figure size 800x600 with 1 Axes>"
      ]
     },
     "metadata": {},
     "output_type": "display_data"
    }
   ],
   "source": [
    "#Importing modules for ROC Curve\n",
    "from sklearn.metrics import roc_curve, roc_auc_score\n",
    "\n",
    "#Using the final_model (our best model, Balanced LogReg) from Cell 16\n",
    "#We need probabilities for the '1' class (Sick)\n",
    "\n",
    "final_model=LogisticRegression(random_state=42, class_weight='balanced')\n",
    "\n",
    "final_model.fit(X_train_scaled, Y_train)\n",
    "\n",
    "Y_pred_proba = final_model.predict_proba(X_test_scaled)[:, 1]\n",
    "\n",
    "#Calculate ROC curve points\n",
    "fpr, tpr, thresholds = roc_curve(Y_test, Y_pred_proba)\n",
    "\n",
    "#Calculate the AUC (Area Under the Curve)\n",
    "auc_score = roc_auc_score(Y_test, Y_pred_proba)\n",
    "\n",
    "#Plotting the ROC Curve\n",
    "plt.figure(figsize=(8, 6))\n",
    "plt.plot(fpr, tpr, label=f'ROC Curve (AUC = {auc_score:.4f})')\n",
    "plt.plot([0, 1], [0, 1], 'r--', label='Random Chance') #Diagonal line\n",
    "plt.xlabel(\"False Positive Rate (FPR)\")\n",
    "plt.ylabel(\"True Positive Rate (TPR)\")\n",
    "plt.title(\"ROC Curve for Final (Balanced) Model on Test Set\")\n",
    "plt.legend()\n",
    "plt.show()"
   ]
  },
  {
   "cell_type": "code",
   "execution_count": null,
   "id": "c3440fdf-1e00-4850-a73e-e7f10ca20888",
   "metadata": {},
   "outputs": [],
   "source": []
  }
 ],
 "metadata": {
  "kernelspec": {
   "display_name": "Python 3 (ipykernel)",
   "language": "python",
   "name": "python3"
  },
  "language_info": {
   "codemirror_mode": {
    "name": "ipython",
    "version": 3
   },
   "file_extension": ".py",
   "mimetype": "text/x-python",
   "name": "python",
   "nbconvert_exporter": "python",
   "pygments_lexer": "ipython3",
   "version": "3.13.7"
  }
 },
 "nbformat": 4,
 "nbformat_minor": 5
}
